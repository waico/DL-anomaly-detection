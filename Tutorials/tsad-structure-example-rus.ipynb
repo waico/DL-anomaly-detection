{
 "cells": [
  {
   "cell_type": "markdown",
   "metadata": {},
   "source": [
    "# Знакомство со структорой tsad"
   ]
  },
  {
   "cell_type": "markdown",
   "metadata": {},
   "source": [
    "## Создание собственной задачи (Task)"
   ]
  },
  {
   "cell_type": "markdown",
   "metadata": {},
   "source": [
    "**Task** - это отдельная задача, имеющая минимальный независимый смысл. Например, приведение данных к единой частоте дискретизации. Из последовательного набора тасков набирает пайплайн, который уже решает полноценно задачу. \n"
   ]
  },
  {
   "cell_type": "markdown",
   "metadata": {},
   "source": [
    "Для начала нам необходимо импортировать необходимые элементы, в том числе класс ```Task``` от которого затем будем наследоваться и класс ```TaskResult``` в которой будем хранить результаты работы задачи. "
   ]
  },
  {
   "cell_type": "code",
   "execution_count": 8,
   "metadata": {},
   "outputs": [],
   "source": [
    "# сначала импортируем необходимые библиотеки \n",
    "try:\n",
    "    import tsad \n",
    "except: \n",
    "    import sys\n",
    "    sys.path.insert(1, '../')\n",
    "    import tsad\n",
    "\n",
    "# \n",
    ", TaskResult\n",
    "\n",
    "import pandas as pd\n",
    "import numpy as np"
   ]
  },
  {
   "cell_type": "markdown",
   "metadata": {},
   "source": [
    "Если мы хотим, чтобы наша новая собственная задача работала в логике работе tsad, нам сделать следующее: \n",
    "* Определить класс таси (у нас он будет называться ```MyCustomTask```)  н, который будет отнаследован от класса Task структуры из ```tsad.base.task```\n",
    "* Определить в нем 2 метода \n",
    "    * ```fit_predict```\n",
    "    * ```predict```\n",
    "* Необязательный шаг. Определить TaskResult (у нас он будет называться ```MyCustomTaskResult```) и занести в него всю желаемую для хранения информацию."
   ]
  },
  {
   "cell_type": "code",
   "execution_count": 2,
   "metadata": {},
   "outputs": [],
   "source": [
    "from tsad.base.datasets import load_exhauster_faults\n"
   ]
  },
  {
   "cell_type": "code",
   "execution_count": 3,
   "metadata": {},
   "outputs": [],
   "source": [
    "dataset = load_exhauster_faults()\n",
    "df = dataset.frame[:1000]\n",
    "df.iloc[5,5] = np.nan"
   ]
  },
  {
   "cell_type": "code",
   "execution_count": 13,
   "metadata": {},
   "outputs": [],
   "source": [
    "from tsad.base.task import Task\n",
    "\n",
    "class DropnaTask(Task):\n",
    "    \"\"\"\n",
    "    Кастомная задача, которая в данном \n",
    "    случае будет дропать строку, если \n",
    "    там есть хотя  бы 1 нан. \n",
    "    \"\"\"\n",
    "    def fit_predict(self,df):\n",
    "        # реализация обучения задачи\n",
    "        new_df = df.dropna()\n",
    "        return new_df\n",
    "\n",
    "    def predict(self,df):\n",
    "        # реализация предсказания задачи\n",
    "        new_df = df.dropna()\n",
    "        return dnew_dff\n"
   ]
  },
  {
   "cell_type": "code",
   "execution_count": 14,
   "metadata": {},
   "outputs": [
    {
     "data": {
      "text/plain": [
       "((1000, 16), (999, 16))"
      ]
     },
     "execution_count": 14,
     "metadata": {},
     "output_type": "execute_result"
    }
   ],
   "source": [
    "task = DropnaTask()\n",
    "new_df = task.fit_predict(df)\n",
    "df.shape, new_df.shape "
   ]
  },
  {
   "cell_type": "code",
   "execution_count": 15,
   "metadata": {},
   "outputs": [],
   "source": [
    "from tsad.base.task import Task, TaskResult\n",
    "\n",
    "class ResampleTaskResult(TaskResult):\n",
    "    freq: pd.Timedelta\n",
    "        \n",
    "    def show():\n",
    "        pass\n",
    "\n",
    "class ResampleTask(Task):\n",
    "    \"\"\"\n",
    "    Кастомная задача, которая в данном случае будет \n",
    "    ресемплировать датасет до самой частой частоты\n",
    "    \"\"\"\n",
    "    def fit_predict(self,df):\n",
    "        # реализация обучения задачи\n",
    "        freq = df.index.to_series().diff().value_counts().index[0]\n",
    "        \n",
    "        results = ResampleTaskResult()\n",
    "        results.freq = freq\n",
    "        \n",
    "        new_df = df.resample(results.freq).mean()\n",
    "        return new_df,results\n",
    "\n",
    "    def predict(self,df,results:ResampleTaskResult):\n",
    "        # реализация предсказания задачи\n",
    "        new_df = df.resample(results.freq).mean()\n",
    "        return new_df,results\n"
   ]
  },
  {
   "cell_type": "code",
   "execution_count": 28,
   "metadata": {},
   "outputs": [
    {
     "name": "stdout",
     "output_type": "stream",
     "text": [
      "0 days 00:00:10\n"
     ]
    },
    {
     "data": {
      "text/html": [
       "<div>\n",
       "<style scoped>\n",
       "    .dataframe tbody tr th:only-of-type {\n",
       "        vertical-align: middle;\n",
       "    }\n",
       "\n",
       "    .dataframe tbody tr th {\n",
       "        vertical-align: top;\n",
       "    }\n",
       "\n",
       "    .dataframe thead th {\n",
       "        text-align: right;\n",
       "    }\n",
       "</style>\n",
       "<table border=\"1\" class=\"dataframe\">\n",
       "  <thead>\n",
       "    <tr style=\"text-align: right;\">\n",
       "      <th></th>\n",
       "      <th>Rotor Current 1</th>\n",
       "      <th>Rotor Current 2</th>\n",
       "      <th>Stator Current</th>\n",
       "      <th>Oil Pressure in System</th>\n",
       "      <th>Bearing Temperature on Support 1</th>\n",
       "      <th>Bearing Temperature on Support 2</th>\n",
       "      <th>Bearing Temperature on Support 3</th>\n",
       "      <th>Bearing Temperature on Support 4</th>\n",
       "      <th>Oil Temperature in System</th>\n",
       "      <th>Oil Temperature in Oil Block</th>\n",
       "      <th>Vibration on Support 1</th>\n",
       "      <th>Vibration on Support 2</th>\n",
       "      <th>Vibration on Support 3</th>\n",
       "      <th>Vibration on Support 3. Longitudinal.</th>\n",
       "      <th>Vibration on Support 4</th>\n",
       "      <th>Vibration on Support 4. Longitudinal.</th>\n",
       "    </tr>\n",
       "    <tr>\n",
       "      <th>DT</th>\n",
       "      <th></th>\n",
       "      <th></th>\n",
       "      <th></th>\n",
       "      <th></th>\n",
       "      <th></th>\n",
       "      <th></th>\n",
       "      <th></th>\n",
       "      <th></th>\n",
       "      <th></th>\n",
       "      <th></th>\n",
       "      <th></th>\n",
       "      <th></th>\n",
       "      <th></th>\n",
       "      <th></th>\n",
       "      <th></th>\n",
       "      <th></th>\n",
       "    </tr>\n",
       "  </thead>\n",
       "  <tbody>\n",
       "    <tr>\n",
       "      <th>2000-01-16 22:46:10</th>\n",
       "      <td>396.407567</td>\n",
       "      <td>396.407567</td>\n",
       "      <td>266.045020</td>\n",
       "      <td>130.12965</td>\n",
       "      <td>45.09330</td>\n",
       "      <td>43.32750</td>\n",
       "      <td>43.327500</td>\n",
       "      <td>48.547017</td>\n",
       "      <td>36.253400</td>\n",
       "      <td>44.210400</td>\n",
       "      <td>1.744000</td>\n",
       "      <td>0.828400</td>\n",
       "      <td>0.730300</td>\n",
       "      <td>1.776700</td>\n",
       "      <td>3.7605</td>\n",
       "      <td>0.806600</td>\n",
       "    </tr>\n",
       "    <tr>\n",
       "      <th>2000-01-16 22:46:20</th>\n",
       "      <td>395.782633</td>\n",
       "      <td>395.782633</td>\n",
       "      <td>264.905425</td>\n",
       "      <td>130.19444</td>\n",
       "      <td>45.09831</td>\n",
       "      <td>43.32977</td>\n",
       "      <td>43.595048</td>\n",
       "      <td>48.900729</td>\n",
       "      <td>36.343951</td>\n",
       "      <td>44.037178</td>\n",
       "      <td>1.714479</td>\n",
       "      <td>0.819392</td>\n",
       "      <td>0.700174</td>\n",
       "      <td>1.698394</td>\n",
       "      <td>3.7823</td>\n",
       "      <td>0.800469</td>\n",
       "    </tr>\n",
       "  </tbody>\n",
       "</table>\n",
       "</div>"
      ],
      "text/plain": [
       "                     Rotor Current 1  Rotor Current 2  Stator Current  \\\n",
       "DT                                                                      \n",
       "2000-01-16 22:46:10       396.407567       396.407567      266.045020   \n",
       "2000-01-16 22:46:20       395.782633       395.782633      264.905425   \n",
       "\n",
       "                     Oil Pressure in System  Bearing Temperature on Support 1  \\\n",
       "DT                                                                              \n",
       "2000-01-16 22:46:10               130.12965                          45.09330   \n",
       "2000-01-16 22:46:20               130.19444                          45.09831   \n",
       "\n",
       "                     Bearing Temperature on Support 2  \\\n",
       "DT                                                      \n",
       "2000-01-16 22:46:10                          43.32750   \n",
       "2000-01-16 22:46:20                          43.32977   \n",
       "\n",
       "                     Bearing Temperature on Support 3  \\\n",
       "DT                                                      \n",
       "2000-01-16 22:46:10                         43.327500   \n",
       "2000-01-16 22:46:20                         43.595048   \n",
       "\n",
       "                     Bearing Temperature on Support 4  \\\n",
       "DT                                                      \n",
       "2000-01-16 22:46:10                         48.547017   \n",
       "2000-01-16 22:46:20                         48.900729   \n",
       "\n",
       "                     Oil Temperature in System  Oil Temperature in Oil Block  \\\n",
       "DT                                                                             \n",
       "2000-01-16 22:46:10                  36.253400                     44.210400   \n",
       "2000-01-16 22:46:20                  36.343951                     44.037178   \n",
       "\n",
       "                     Vibration on Support 1  Vibration on Support 2  \\\n",
       "DT                                                                    \n",
       "2000-01-16 22:46:10                1.744000                0.828400   \n",
       "2000-01-16 22:46:20                1.714479                0.819392   \n",
       "\n",
       "                     Vibration on Support 3  \\\n",
       "DT                                            \n",
       "2000-01-16 22:46:10                0.730300   \n",
       "2000-01-16 22:46:20                0.700174   \n",
       "\n",
       "                     Vibration on Support 3. Longitudinal.  \\\n",
       "DT                                                           \n",
       "2000-01-16 22:46:10                               1.776700   \n",
       "2000-01-16 22:46:20                               1.698394   \n",
       "\n",
       "                     Vibration on Support 4  \\\n",
       "DT                                            \n",
       "2000-01-16 22:46:10                  3.7605   \n",
       "2000-01-16 22:46:20                  3.7823   \n",
       "\n",
       "                     Vibration on Support 4. Longitudinal.  \n",
       "DT                                                          \n",
       "2000-01-16 22:46:10                               0.806600  \n",
       "2000-01-16 22:46:20                               0.800469  "
      ]
     },
     "execution_count": 28,
     "metadata": {},
     "output_type": "execute_result"
    }
   ],
   "source": [
    "task = ResampleTask()\n",
    "new_df, result = task.fit_predict(df)\n",
    "print(result.freq)\n",
    "new_df, result = task.predict(new_df,result)\n",
    "new_df.head(2)"
   ]
  },
  {
   "cell_type": "markdown",
   "metadata": {},
   "source": [
    "## Pipiline"
   ]
  },
  {
   "cell_type": "code",
   "execution_count": 21,
   "metadata": {},
   "outputs": [],
   "source": [
    "from tsad.base.pipeline import Pipeline\n",
    "from tsad.base.wrappers import SklearnWrapper\n",
    "from sklearn.preprocessing import StandardScaler\n",
    "\n",
    "StandardScalerTask = SklearnWrapper(StandardScaler)"
   ]
  },
  {
   "cell_type": "code",
   "execution_count": 30,
   "metadata": {},
   "outputs": [
    {
     "data": {
      "text/html": [
       "<div>\n",
       "<style scoped>\n",
       "    .dataframe tbody tr th:only-of-type {\n",
       "        vertical-align: middle;\n",
       "    }\n",
       "\n",
       "    .dataframe tbody tr th {\n",
       "        vertical-align: top;\n",
       "    }\n",
       "\n",
       "    .dataframe thead th {\n",
       "        text-align: right;\n",
       "    }\n",
       "</style>\n",
       "<table border=\"1\" class=\"dataframe\">\n",
       "  <thead>\n",
       "    <tr style=\"text-align: right;\">\n",
       "      <th></th>\n",
       "      <th>Rotor Current 1</th>\n",
       "      <th>Rotor Current 2</th>\n",
       "      <th>Stator Current</th>\n",
       "      <th>Oil Pressure in System</th>\n",
       "      <th>Bearing Temperature on Support 1</th>\n",
       "      <th>Bearing Temperature on Support 2</th>\n",
       "      <th>Bearing Temperature on Support 3</th>\n",
       "      <th>Bearing Temperature on Support 4</th>\n",
       "      <th>Oil Temperature in System</th>\n",
       "      <th>Oil Temperature in Oil Block</th>\n",
       "      <th>Vibration on Support 1</th>\n",
       "      <th>Vibration on Support 2</th>\n",
       "      <th>Vibration on Support 3</th>\n",
       "      <th>Vibration on Support 3. Longitudinal.</th>\n",
       "      <th>Vibration on Support 4</th>\n",
       "      <th>Vibration on Support 4. Longitudinal.</th>\n",
       "    </tr>\n",
       "    <tr>\n",
       "      <th>DT</th>\n",
       "      <th></th>\n",
       "      <th></th>\n",
       "      <th></th>\n",
       "      <th></th>\n",
       "      <th></th>\n",
       "      <th></th>\n",
       "      <th></th>\n",
       "      <th></th>\n",
       "      <th></th>\n",
       "      <th></th>\n",
       "      <th></th>\n",
       "      <th></th>\n",
       "      <th></th>\n",
       "      <th></th>\n",
       "      <th></th>\n",
       "      <th></th>\n",
       "    </tr>\n",
       "  </thead>\n",
       "  <tbody>\n",
       "    <tr>\n",
       "      <th>2000-01-16 22:46:10</th>\n",
       "      <td>3.030539</td>\n",
       "      <td>3.030601</td>\n",
       "      <td>-0.666630</td>\n",
       "      <td>-1.267433</td>\n",
       "      <td>-0.254604</td>\n",
       "      <td>0.740498</td>\n",
       "      <td>-1.032639</td>\n",
       "      <td>-0.165575</td>\n",
       "      <td>-0.023516</td>\n",
       "      <td>1.095630</td>\n",
       "      <td>1.326801</td>\n",
       "      <td>1.332755</td>\n",
       "      <td>0.434482</td>\n",
       "      <td>-0.214912</td>\n",
       "      <td>0.768363</td>\n",
       "      <td>0.273307</td>\n",
       "    </tr>\n",
       "    <tr>\n",
       "      <th>2000-01-16 22:46:20</th>\n",
       "      <td>2.726841</td>\n",
       "      <td>2.726903</td>\n",
       "      <td>-0.916973</td>\n",
       "      <td>-0.960973</td>\n",
       "      <td>-0.223757</td>\n",
       "      <td>0.753434</td>\n",
       "      <td>0.699269</td>\n",
       "      <td>0.563728</td>\n",
       "      <td>0.168865</td>\n",
       "      <td>0.580937</td>\n",
       "      <td>0.360400</td>\n",
       "      <td>0.910253</td>\n",
       "      <td>-0.248955</td>\n",
       "      <td>-0.750909</td>\n",
       "      <td>0.801370</td>\n",
       "      <td>0.143023</td>\n",
       "    </tr>\n",
       "  </tbody>\n",
       "</table>\n",
       "</div>"
      ],
      "text/plain": [
       "                     Rotor Current 1  Rotor Current 2  Stator Current  \\\n",
       "DT                                                                      \n",
       "2000-01-16 22:46:10         3.030539         3.030601       -0.666630   \n",
       "2000-01-16 22:46:20         2.726841         2.726903       -0.916973   \n",
       "\n",
       "                     Oil Pressure in System  Bearing Temperature on Support 1  \\\n",
       "DT                                                                              \n",
       "2000-01-16 22:46:10               -1.267433                         -0.254604   \n",
       "2000-01-16 22:46:20               -0.960973                         -0.223757   \n",
       "\n",
       "                     Bearing Temperature on Support 2  \\\n",
       "DT                                                      \n",
       "2000-01-16 22:46:10                          0.740498   \n",
       "2000-01-16 22:46:20                          0.753434   \n",
       "\n",
       "                     Bearing Temperature on Support 3  \\\n",
       "DT                                                      \n",
       "2000-01-16 22:46:10                         -1.032639   \n",
       "2000-01-16 22:46:20                          0.699269   \n",
       "\n",
       "                     Bearing Temperature on Support 4  \\\n",
       "DT                                                      \n",
       "2000-01-16 22:46:10                         -0.165575   \n",
       "2000-01-16 22:46:20                          0.563728   \n",
       "\n",
       "                     Oil Temperature in System  Oil Temperature in Oil Block  \\\n",
       "DT                                                                             \n",
       "2000-01-16 22:46:10                  -0.023516                      1.095630   \n",
       "2000-01-16 22:46:20                   0.168865                      0.580937   \n",
       "\n",
       "                     Vibration on Support 1  Vibration on Support 2  \\\n",
       "DT                                                                    \n",
       "2000-01-16 22:46:10                1.326801                1.332755   \n",
       "2000-01-16 22:46:20                0.360400                0.910253   \n",
       "\n",
       "                     Vibration on Support 3  \\\n",
       "DT                                            \n",
       "2000-01-16 22:46:10                0.434482   \n",
       "2000-01-16 22:46:20               -0.248955   \n",
       "\n",
       "                     Vibration on Support 3. Longitudinal.  \\\n",
       "DT                                                           \n",
       "2000-01-16 22:46:10                              -0.214912   \n",
       "2000-01-16 22:46:20                              -0.750909   \n",
       "\n",
       "                     Vibration on Support 4  \\\n",
       "DT                                            \n",
       "2000-01-16 22:46:10                0.768363   \n",
       "2000-01-16 22:46:20                0.801370   \n",
       "\n",
       "                     Vibration on Support 4. Longitudinal.  \n",
       "DT                                                          \n",
       "2000-01-16 22:46:10                               0.273307  \n",
       "2000-01-16 22:46:20                               0.143023  "
      ]
     },
     "execution_count": 30,
     "metadata": {},
     "output_type": "execute_result"
    }
   ],
   "source": [
    "set_of_preproc_tasks = [\n",
    "    ResampleTask(),\n",
    "    DropnaTask(),\n",
    "    StandardScalerTask(),\n",
    "]\n",
    "\n",
    "preproc_pipeline = Pipeline(set_of_preproc_tasks, \n",
    "                        show=False)\n",
    "preprocessed_df = preproc_pipeline.fit_predict(df)\n",
    "preprocessed_df.head(2)"
   ]
  },
  {
   "cell_type": "markdown",
   "metadata": {},
   "source": [
    "# Разрыв сложного пайплайна"
   ]
  },
  {
   "cell_type": "code",
   "execution_count": 31,
   "metadata": {},
   "outputs": [
    {
     "name": "stderr",
     "output_type": "stream",
     "text": [
      "/opt/anaconda3/envs/tsad/lib/python3.10/site-packages/tqdm/auto.py:21: TqdmWarning: IProgress not found. Please update jupyter and ipywidgets. See https://ipywidgets.readthedocs.io/en/stable/user_install.html\n",
      "  from .autonotebook import tqdm as notebook_tqdm\n"
     ]
    }
   ],
   "source": [
    "from tsad.tasks.eda import HighLevelDatasetAnalysisTask, TimeDiscretizationTask\n",
    "from tsad.tasks.eda import FindNaNTask, EquipmentDowntimeTask\n",
    "from tsad.tasks.preprocess import ResampleProcessingTask \n",
    "from tsad.tasks.preprocess import SplitByNaNTask, PrepareSeqSamplesTask\n",
    "from tsad.tasks.deep_learning_anomaly_detection import ResidualAnomalyDetectionTask\n",
    "from tsad.tasks.deep_learning_forecasting import DeepLeaningTimeSeriesForecastingTask\n",
    "\n",
    "from tsad.base.pipeline import Pipeline\n",
    "from tsad.base.wrappers import SklearnWrapper\n",
    "\n",
    "from sklearn.preprocessing import StandardScaler\n",
    "StandardScalerTask = SklearnWrapper(StandardScaler)\n",
    "\n"
   ]
  },
  {
   "cell_type": "code",
   "execution_count": null,
   "metadata": {},
   "outputs": [],
   "source": [
    "preprocessing_set = [HighLevelDatasetAnalysisTask(),\n",
    "                     TimeDiscretizationTask(freq_tobe_approach='most_frequent'),\n",
    "                     FindNaNTask(),EquipmentDowntimeTask(),\n",
    "                     ResampleProcessingTask(),\n",
    "                     StandardScalerTask(),\n",
    "                     PrepareSeqSamplesTask(len_seq=10),\n",
    "                     SplitByNaNTask(),\n",
    "                    ]\n",
    "preprocessing_pipeline = Pipeline(preprocessing_set)\n",
    "preprocessing_df = preprocessing_pipeline.fit_predict(dataset.frame)"
   ]
  },
  {
   "cell_type": "code",
   "execution_count": null,
   "metadata": {},
   "outputs": [],
   "source": [
    "ml_modeling_set = [\n",
    "    ResidualAnomalyDetectionTask()\n",
    "]\n",
    "\n",
    "preprocess_pipeline = Pipeline(mlmodeling_set, results=preprocessing_pipeline.results)\n",
    "preprocess_fit_df = preprocess_pipeline.fit_predict(preprocessing_df)"
   ]
  },
  {
   "cell_type": "code",
   "execution_count": null,
   "metadata": {},
   "outputs": [],
   "source": [
    "!"
   ]
  }
 ],
 "metadata": {
  "kernelspec": {
   "display_name": "tsad",
   "language": "python",
   "name": "tsad"
  },
  "language_info": {
   "codemirror_mode": {
    "name": "ipython",
    "version": 3
   },
   "file_extension": ".py",
   "mimetype": "text/x-python",
   "name": "python",
   "nbconvert_exporter": "python",
   "pygments_lexer": "ipython3",
   "version": "3.10.6"
  },
  "toc": {
   "base_numbering": 1,
   "nav_menu": {},
   "number_sections": true,
   "sideBar": true,
   "skip_h1_title": false,
   "title_cell": "Table of Contents",
   "title_sidebar": "Contents",
   "toc_cell": false,
   "toc_position": {},
   "toc_section_display": true,
   "toc_window_display": false
  }
 },
 "nbformat": 4,
 "nbformat_minor": 4
}
